{
 "cells": [
  {
   "cell_type": "markdown",
   "metadata": {},
   "source": [
    "# INF560HW2 task1 part 1"
   ]
  },
  {
   "cell_type": "markdown",
   "metadata": {},
   "source": [
    "step 1: Invoking Create_number.py to generate 1000 random numbers over the range 0-100,and generate a txt file."
   ]
  },
  {
   "cell_type": "code",
   "execution_count": 1,
   "metadata": {},
   "outputs": [
    {
     "name": "stdout",
     "output_type": "stream",
     "text": [
      "[73, 4, 54, 61, 73, 1, 26, 59, 62, 35, 83, 20, 4, 66, 62, 41, 9, 31, 95, 46, 5, 53, 17, 77, 45, 48, 53, 36, 86, 33, 58, 22, 87, 38, 84, 46, 17, 58, 98, 30, 56, 78, 48, 5, 74, 0, 30, 17, 24, 38, 68, 46, 98, 30, 40, 85, 70, 57, 55, 60, 8, 83, 74, 41, 64, 20, 28, 52, 30, 4, 4, 63, 38, 77, 84, 9, 68, 10, 19, 49, 72, 47, 76, 19, 14, 99, 98, 12, 56, 21, 24, 44, 55, 53, 57, 31, 87, 35, 18, 79, 66, 22, 15, 34, 58, 38, 21, 84, 83, 22, 99, 22, 61, 98, 44, 41, 55, 28, 0, 69, 91, 5, 42, 40, 31, 10, 33, 57, 51, 74, 20, 49, 63, 86, 30, 94, 67, 34, 66, 61, 77, 63, 8, 21, 62, 86, 59, 51, 17, 53, 69, 74, 44, 68, 49, 62, 89, 21, 71, 56, 12, 53, 4, 0, 56, 68, 8, 6, 44, 11, 19, 13, 77, 58, 62, 17, 58, 55, 99, 64, 57, 43, 92, 33, 100, 89, 58, 54, 42, 83, 66, 66, 19, 94, 30, 41, 79, 4, 87, 25, 82, 75, 73, 80, 61, 3, 14, 37, 55, 31, 91, 37, 11, 5, 76, 70, 98, 13, 36, 20, 85, 61, 18, 46, 76, 51, 100, 24, 44, 23, 10, 75, 24, 54, 26, 12, 87, 39, 59, 95, 96, 88, 66, 92, 54, 57, 85, 95, 71, 26, 34, 76, 46, 14, 80, 100, 80, 0, 26, 54, 78, 52, 48, 83, 25, 8, 98, 54, 11, 7, 44, 32, 46, 58, 54, 97, 24, 80, 95, 36, 59, 88, 37, 64, 63, 64, 33, 51, 56, 81, 43, 44, 92, 35, 61, 57, 61, 75, 61, 10, 88, 69, 92, 46, 92, 51, 21, 77, 53, 92, 72, 8, 76, 93, 39, 2, 75, 41, 83, 41, 9, 94, 50, 78, 47, 36, 77, 23, 30, 21, 39, 12, 71, 6, 28, 72, 95, 9, 53, 24, 72, 73, 56, 75, 2, 50, 25, 43, 73, 24, 66, 72, 97, 98, 41, 6, 84, 88, 74, 6, 4, 72, 46, 50, 41, 76, 81, 21, 98, 20, 15, 77, 44, 21, 3, 92, 68, 65, 44, 11, 50, 56, 73, 44, 7, 18, 56, 90, 60, 78, 57, 92, 56, 77, 22, 45, 54, 43, 71, 65, 58, 49, 24, 12, 55, 82, 19, 5, 23, 81, 81, 24, 72, 54, 46, 71, 48, 6, 77, 6, 21, 39, 28, 6, 74, 22, 12, 81, 72, 46, 23, 38, 5, 50, 76, 97, 54, 9, 44, 97, 24, 62, 20, 21, 51, 96, 59, 99, 42, 4, 22, 22, 74, 90, 53, 19, 65, 82, 89, 50, 12, 50, 15, 30, 13, 54, 92, 81, 39, 92, 37, 68, 83, 12, 44, 66, 79, 60, 77, 31, 68, 37, 1, 85, 20, 86, 49, 88, 29, 12, 65, 81, 97, 60, 12, 73, 51, 74, 27, 36, 45, 8, 24, 79, 71, 67, 3, 9, 51, 4, 2, 83, 55, 43, 22, 93, 6, 45, 41, 80, 60, 100, 21, 2, 26, 16, 37, 25, 31, 31, 49, 78, 69, 74, 76, 53, 70, 97, 3, 16, 0, 15, 3, 7, 87, 98, 98, 22, 15, 88, 49, 8, 1, 84, 55, 94, 84, 23, 79, 53, 6, 70, 21, 6, 89, 48, 74, 58, 58, 42, 23, 4, 51, 80, 58, 62, 90, 91, 46, 85, 9, 17, 33, 32, 22, 11, 58, 1, 19, 35, 10, 67, 39, 18, 98, 13, 68, 15, 36, 90, 79, 42, 0, 73, 33, 81, 96, 66, 54, 65, 18, 91, 7, 81, 7, 77, 7, 82, 27, 68, 1, 27, 18, 39, 88, 53, 19, 3, 47, 66, 85, 90, 14, 61, 38, 59, 59, 22, 80, 18, 3, 51, 77, 19, 57, 84, 89, 98, 22, 43, 64, 85, 60, 19, 5, 62, 75, 49, 21, 60, 89, 35, 27, 63, 66, 45, 83, 72, 98, 71, 48, 19, 82, 40, 94, 40, 16, 7, 58, 6, 86, 42, 67, 66, 6, 48, 78, 99, 100, 10, 89, 92, 4, 16, 4, 1, 46, 55, 28, 84, 61, 72, 84, 92, 11, 13, 8, 46, 58, 54, 39, 22, 95, 16, 97, 80, 51, 69, 89, 69, 24, 87, 95, 30, 92, 19, 48, 27, 65, 76, 62, 87, 84, 49, 100, 24, 8, 68, 93, 95, 19, 77, 75, 68, 16, 9, 84, 50, 58, 11, 26, 1, 58, 22, 85, 21, 46, 49, 80, 26, 31, 42, 38, 75, 33, 19, 7, 62, 53, 45, 43, 0, 41, 86, 37, 64, 99, 89, 75, 6, 52, 91, 36, 58, 21, 14, 53, 54, 11, 15, 59, 20, 9, 48, 68, 10, 0, 66, 92, 70, 33, 73, 61, 10, 53, 14, 96, 52, 61, 28, 50, 2, 56, 58, 81, 72, 91, 63, 89, 53, 38, 71, 84, 19, 57, 21, 29, 60, 63, 73, 59, 51, 38, 95, 70, 57, 76, 97, 2, 64, 69, 47, 80, 90, 59, 38, 23, 30, 28, 47, 77, 20, 67, 99, 3, 69, 72, 4, 7, 21, 53, 97, 39, 21, 98, 25, 3, 21, 59, 40, 5, 64, 31, 4, 2, 18, 86, 62, 58, 98, 45, 2, 53, 80, 87, 45, 33, 2, 19, 32, 5, 18, 83, 87, 85, 30, 14, 65, 91, 60, 99, 98, 37, 44, 40, 70, 54, 99, 89, 42, 76, 37, 54, 7, 13, 61, 85, 92, 91, 46, 62, 92, 55, 60, 45, 8, 20, 74, 24, 70, 96, 41, 36, 25, 0, 93, 74, 54, 92, 98, 5, 97, 93, 21, 20, 61, 46, 50, 15, 49, 31, 25, 73, 9, 62, 6, 70, 32, 62, 10, 99, 95, 84, 78, 89, 11, 31, 82, 22, 21, 57, 51, 90, 71, 24, 87, 54, 89, 29, 55, 52, 24, 29, 92, 89, 46, 61, 91, 16, 96, 25, 73, 84, 94, 6, 93, 87, 66, 89, 23]\n"
     ]
    },
    {
     "data": {
      "text/plain": [
       "<Figure size 640x480 with 1 Axes>"
      ]
     },
     "metadata": {},
     "output_type": "display_data"
    }
   ],
   "source": [
    "###step 1: Invoking a.py to generate 1000 random numbers over the range 0-100\n",
    "import Create_number\n",
    "import matplotlib.pyplot as plt\n",
    "\n",
    "print(Create_number.l1)\n",
    "\n",
    "plt.hist(Create_number.l1, edgecolor='k', alpha=0.35) # 设置直方边线颜色为黑色，不透明度为 0.35\n",
    "plt.show()"
   ]
  },
  {
   "cell_type": "markdown",
   "metadata": {},
   "source": [
    "# INF560HW2 task1 part 2"
   ]
  },
  {
   "cell_type": "markdown",
   "metadata": {},
   "source": [
    "step 2: Invoking New_number.py to generate new numbers from the original 1000 using the equation y=3x+6, and generate a txt file as well."
   ]
  },
  {
   "cell_type": "code",
   "execution_count": 2,
   "metadata": {},
   "outputs": [
    {
     "name": "stdout",
     "output_type": "stream",
     "text": [
      "[225, 18, 168, 189, 225, 9, 84, 183, 192, 111, 255, 66, 18, 204, 192, 129, 33, 99, 291, 144, 21, 165, 57, 237, 141, 150, 165, 114, 264, 105, 180, 72, 267, 120, 258, 144, 57, 180, 300, 96, 174, 240, 150, 21, 228, 6, 96, 57, 78, 120, 210, 144, 300, 96, 126, 261, 216, 177, 171, 186, 30, 255, 228, 129, 198, 66, 90, 162, 96, 18, 18, 195, 120, 237, 258, 33, 210, 36, 63, 153, 222, 147, 234, 63, 48, 303, 300, 42, 174, 69, 78, 138, 171, 165, 177, 99, 267, 111, 60, 243, 204, 72, 51, 108, 180, 120, 69, 258, 255, 72, 303, 72, 189, 300, 138, 129, 171, 90, 6, 213, 279, 21, 132, 126, 99, 36, 105, 177, 159, 228, 66, 153, 195, 264, 96, 288, 207, 108, 204, 189, 237, 195, 30, 69, 192, 264, 183, 159, 57, 165, 213, 228, 138, 210, 153, 192, 273, 69, 219, 174, 42, 165, 18, 6, 174, 210, 30, 24, 138, 39, 63, 45, 237, 180, 192, 57, 180, 171, 303, 198, 177, 135, 282, 105, 306, 273, 180, 168, 132, 255, 204, 204, 63, 288, 96, 129, 243, 18, 267, 81, 252, 231, 225, 246, 189, 15, 48, 117, 171, 99, 279, 117, 39, 21, 234, 216, 300, 45, 114, 66, 261, 189, 60, 144, 234, 159, 306, 78, 138, 75, 36, 231, 78, 168, 84, 42, 267, 123, 183, 291, 294, 270, 204, 282, 168, 177, 261, 291, 219, 84, 108, 234, 144, 48, 246, 306, 246, 6, 84, 168, 240, 162, 150, 255, 81, 30, 300, 168, 39, 27, 138, 102, 144, 180, 168, 297, 78, 246, 291, 114, 183, 270, 117, 198, 195, 198, 105, 159, 174, 249, 135, 138, 282, 111, 189, 177, 189, 231, 189, 36, 270, 213, 282, 144, 282, 159, 69, 237, 165, 282, 222, 30, 234, 285, 123, 12, 231, 129, 255, 129, 33, 288, 156, 240, 147, 114, 237, 75, 96, 69, 123, 42, 219, 24, 90, 222, 291, 33, 165, 78, 222, 225, 174, 231, 12, 156, 81, 135, 225, 78, 204, 222, 297, 300, 129, 24, 258, 270, 228, 24, 18, 222, 144, 156, 129, 234, 249, 69, 300, 66, 51, 237, 138, 69, 15, 282, 210, 201, 138, 39, 156, 174, 225, 138, 27, 60, 174, 276, 186, 240, 177, 282, 174, 237, 72, 141, 168, 135, 219, 201, 180, 153, 78, 42, 171, 252, 63, 21, 75, 249, 249, 78, 222, 168, 144, 219, 150, 24, 237, 24, 69, 123, 90, 24, 228, 72, 42, 249, 222, 144, 75, 120, 21, 156, 234, 297, 168, 33, 138, 297, 78, 192, 66, 69, 159, 294, 183, 303, 132, 18, 72, 72, 228, 276, 165, 63, 201, 252, 273, 156, 42, 156, 51, 96, 45, 168, 282, 249, 123, 282, 117, 210, 255, 42, 138, 204, 243, 186, 237, 99, 210, 117, 9, 261, 66, 264, 153, 270, 93, 42, 201, 249, 297, 186, 42, 225, 159, 228, 87, 114, 141, 30, 78, 243, 219, 207, 15, 33, 159, 18, 12, 255, 171, 135, 72, 285, 24, 141, 129, 246, 186, 306, 69, 12, 84, 54, 117, 81, 99, 99, 153, 240, 213, 228, 234, 165, 216, 297, 15, 54, 6, 51, 15, 27, 267, 300, 300, 72, 51, 270, 153, 30, 9, 258, 171, 288, 258, 75, 243, 165, 24, 216, 69, 24, 273, 150, 228, 180, 180, 132, 75, 18, 159, 246, 180, 192, 276, 279, 144, 261, 33, 57, 105, 102, 72, 39, 180, 9, 63, 111, 36, 207, 123, 60, 300, 45, 210, 51, 114, 276, 243, 132, 6, 225, 105, 249, 294, 204, 168, 201, 60, 279, 27, 249, 27, 237, 27, 252, 87, 210, 9, 87, 60, 123, 270, 165, 63, 15, 147, 204, 261, 276, 48, 189, 120, 183, 183, 72, 246, 60, 15, 159, 237, 63, 177, 258, 273, 300, 72, 135, 198, 261, 186, 63, 21, 192, 231, 153, 69, 186, 273, 111, 87, 195, 204, 141, 255, 222, 300, 219, 150, 63, 252, 126, 288, 126, 54, 27, 180, 24, 264, 132, 207, 204, 24, 150, 240, 303, 306, 36, 273, 282, 18, 54, 18, 9, 144, 171, 90, 258, 189, 222, 258, 282, 39, 45, 30, 144, 180, 168, 123, 72, 291, 54, 297, 246, 159, 213, 273, 213, 78, 267, 291, 96, 282, 63, 150, 87, 201, 234, 192, 267, 258, 153, 306, 78, 30, 210, 285, 291, 63, 237, 231, 210, 54, 33, 258, 156, 180, 39, 84, 9, 180, 72, 261, 69, 144, 153, 246, 84, 99, 132, 120, 231, 105, 63, 27, 192, 165, 141, 135, 6, 129, 264, 117, 198, 303, 273, 231, 24, 162, 279, 114, 180, 69, 48, 165, 168, 39, 51, 183, 66, 33, 150, 210, 36, 6, 204, 282, 216, 105, 225, 189, 36, 165, 48, 294, 162, 189, 90, 156, 12, 174, 180, 249, 222, 279, 195, 273, 165, 120, 219, 258, 63, 177, 69, 93, 186, 195, 225, 183, 159, 120, 291, 216, 177, 234, 297, 12, 198, 213, 147, 246, 276, 183, 120, 75, 96, 90, 147, 237, 66, 207, 303, 15, 213, 222, 18, 27, 69, 165, 297, 123, 69, 300, 81, 15, 69, 183, 126, 21, 198, 99, 18, 12, 60, 264, 192, 180, 300, 141, 12, 165, 246, 267, 141, 105, 12, 63, 102, 21, 60, 255, 267, 261, 96, 48, 201, 279, 186, 303, 300, 117, 138, 126, 216, 168, 303, 273, 132, 234, 117, 168, 27, 45, 189, 261, 282, 279, 144, 192, 282, 171, 186, 141, 30, 66, 228, 78, 216, 294, 129, 114, 81, 6, 285, 228, 168, 282, 300, 21, 297, 285, 69, 66, 189, 144, 156, 51, 153, 99, 81, 225, 33, 192, 24, 216, 102, 192, 36, 303, 291, 258, 240, 273, 39, 99, 252, 72, 69, 177, 159, 276, 219, 78, 267, 168, 273, 93, 171, 162, 78, 93, 282, 273, 144, 189, 279, 54, 294, 81, 225, 258, 288, 24, 285, 267, 204, 273, 75]\n"
     ]
    },
    {
     "data": {
      "image/png": "[encoded data removed]",
      "text/plain": [
       "<Figure size 432x288 with 1 Axes>"
      ]
     },
     "metadata": {
      "needs_background": "light"
     },
     "output_type": "display_data"
    }
   ],
   "source": [
    "###step 2: Invoking b.py to generate new numbers from the original 1000 using the equation y=3x+6\n",
    "import New_number\n",
    "\n",
    "import matplotlib.pyplot as plt\n",
    "\n",
    "print(New_number.l2)\n",
    "plt.hist(New_number.l2, edgecolor='k', alpha=0.35) # 设置直方边线颜色为黑色，不透明度为 0.35\n",
    "plt.show()"
   ]
  },
  {
   "cell_type": "markdown",
   "metadata": {},
   "source": [
    "# INF560HW2 task1 part 3"
   ]
  },
  {
   "cell_type": "markdown",
   "metadata": {},
   "source": [
    "step 3: Invoking Number_visualization.py to visualize the results"
   ]
  },
  {
   "cell_type": "code",
   "execution_count": 3,
   "metadata": {},
   "outputs": [
    {
     "data": {
      "image/png": "[encoded data removed]",
      "text/plain": [
       "<Figure size 432x288 with 1 Axes>"
      ]
     },
     "metadata": {
      "needs_background": "light"
     },
     "output_type": "display_data"
    }
   ],
   "source": [
    "###step 3: Invoking c.py to visualize the results\n",
    "import Number_visualization"
   ]
  },
  {
   "cell_type": "code",
   "execution_count": null,
   "metadata": {},
   "outputs": [],
   "source": []
  },
  {
   "cell_type": "code",
   "execution_count": null,
   "metadata": {},
   "outputs": [],
   "source": []
  }
 ],
 "metadata": {
  "kernelspec": {
   "display_name": "Python 3",
   "language": "python",
   "name": "python3"
  },
  "language_info": {
   "codemirror_mode": {
    "name": "ipython",
    "version": 3
   },
   "file_extension": ".py",
   "mimetype": "text/x-python",
   "name": "python",
   "nbconvert_exporter": "python",
   "pygments_lexer": "ipython3",
   "version": "3.7.3"
  }
 },
 "nbformat": 4,
 "nbformat_minor": 2
}
